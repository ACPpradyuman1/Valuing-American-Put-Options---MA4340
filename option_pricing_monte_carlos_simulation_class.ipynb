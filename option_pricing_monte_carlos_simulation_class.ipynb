{
  "nbformat": 4,
  "nbformat_minor": 0,
  "metadata": {
    "colab": {
      "provenance": []
    },
    "kernelspec": {
      "name": "python3",
      "display_name": "Python 3"
    }
  },
  "cells": [
    {
      "cell_type": "code",
      "metadata": {
        "id": "m046EVbeuFb7"
      },
      "source": [
        "import time\n",
        "import datetime \n",
        "import numpy as np\n",
        "from random import gauss, seed\n",
        "from math import sqrt, exp \n",
        "seed(12345678)"
      ],
      "execution_count": null,
      "outputs": []
    },
    {
      "cell_type": "markdown",
      "metadata": {
        "id": "dnNsky__u2Qr"
      },
      "source": [
        "https://en.wikipedia.org/wiki/It%C3%B4%27s_lemma\n",
        "\n",
        "$$ dS/S: \\textit{asset return}$$\n",
        "$$ dt: \\textit{time unit (assume year)}$$\n",
        "$$ \\mu: \\textit{expected return per year} $$\n",
        "$$ \\sigma: \\textit{return volatility per year} $$\n",
        "$$ S: \\textit{asset price per unit} $$\n",
        "$$ dz \\sim N(0,dt) \\sim \\epsilon \\sqrt{dt}$$\n",
        "$$ \\epsilon \\sim N(0,1)$$\n",
        "$$\\textit{Assume:   } dS_t/S_t = \\mu_t dt + \\sigma_t dz_t $$\n",
        "By Ito's lemma:\n",
        "\n",
        "$$ d\\log{S_t} = (\\mu_t - \\sigma_t^2/2) dt + \\sigma_t dz_t$$\n",
        "$$ \\int_0^T d\\log{S_t} = \\int_0^T (\\mu - \\sigma^2/2) dt + \\sigma dz_t$$\n",
        "\n",
        "$$ \\log S_T - \\log S_0 = (\\mu_t - \\sigma_t^2/2)T + \\sigma \\epsilon \\sqrt{T}$$\n",
        "\n",
        "\n",
        "$$ S_T = S_0 \\exp((\\mu_t - \\sigma_t^2/2) T + \\sigma_t \\epsilon \\sqrt{T}) $$\n",
        "\n",
        "If we assume risk-neutral measure, \n",
        "\n",
        "$$\\mu_t = r_t - q_t$$\n",
        "\n",
        "$r$ is risk-free rate, and $q$ is dividend yield per year"
      ]
    },
    {
      "cell_type": "code",
      "metadata": {
        "id": "DMlYWngWuw3N"
      },
      "source": [
        "def generate_asset_price(S_0,v,mu,T,z): # simulate asset prices \n",
        "  S_T = S_0*exp((mu-v**2/2)*T + v*z*sqrt(T))\n",
        "  return S_T\n",
        "\n",
        "def call_payoff(S_T,K): # European call option for the time being\n",
        "  return max(0., S_T-K)"
      ],
      "execution_count": null,
      "outputs": []
    },
    {
      "cell_type": "code",
      "metadata": {
        "id": "P2gdfR-kyxML"
      },
      "source": [
        "S = 100.    # underlying asset price (S_0) \n",
        "v = 0.20978 # volatility per year\n",
        "r = 0.01    # risk free rate per year\n",
        "q = 0.001   # dividend yield per year\n",
        "mu = r - q  # expected under risk neutral measure \n",
        "T = (datetime.date(2021,11,30) - datetime.date(2020,10,30)).days/365.\n",
        "K = 110.    # exercise price"
      ],
      "execution_count": null,
      "outputs": []
    },
    {
      "cell_type": "code",
      "metadata": {
        "id": "GuIVBdwg0N3o",
        "colab": {
          "base_uri": "https://localhost:8080/"
        },
        "outputId": "c446d669-3ebb-4a32-b028-841280ef7d01"
      },
      "source": [
        "z = np.random.standard_normal((1,1))\n",
        "S_T = generate_asset_price(S,v,mu,T,z)\n",
        "print(S_T)\n",
        "print(call_payoff(S_T,K))"
      ],
      "execution_count": null,
      "outputs": [
        {
          "output_type": "stream",
          "text": [
            "69.60737409800016\n",
            "0.0\n"
          ],
          "name": "stdout"
        }
      ]
    },
    {
      "cell_type": "markdown",
      "metadata": {
        "id": "nlsFOPfn06BJ"
      },
      "source": [
        "Our goal is to simulate a lot of call option payoff, and then average it out, and then discount the average back to the present. This will give us the derivative price."
      ]
    },
    {
      "cell_type": "code",
      "metadata": {
        "id": "XAClIQJJ1T-R",
        "colab": {
          "base_uri": "https://localhost:8080/"
        },
        "outputId": "7c3da97a-09e5-4b81-f6f1-99418eb2079c"
      },
      "source": [
        "simulations = 10**4\n",
        "payoffs = []\n",
        "t = time.time()\n",
        "for i in range(simulations):\n",
        "  z = np.random.standard_normal((1,1))\n",
        "  S_T = generate_asset_price(S,v,mu,T,z)\n",
        "  DS_T = call_payoff(S_T,K)\n",
        "  payoffs.append(DS_T)\n",
        "  # antithetic variate method\n",
        "\n",
        "elapsed = time.time()-t\n",
        "discount_factor = exp(-r*T)\n",
        "price = discount_factor*np.average(payoffs)\n",
        "print(\"Derivative price (average):\", round(price,4))\n",
        "print(\"Time and std:\", round(elapsed,4), np.std(payoffs))"
      ],
      "execution_count": null,
      "outputs": [
        {
          "output_type": "stream",
          "text": [
            "Derivative price (average): 5.3196\n",
            "Time and std: 0.0677 11.89475219969843\n"
          ],
          "name": "stdout"
        }
      ]
    },
    {
      "cell_type": "markdown",
      "metadata": {
        "id": "w42B9aZbvIZp"
      },
      "source": [
        "Class quiz: Use antithetic variate method to compute the derivative price. Report your code and results. Write down your name and student id in the solution. "
      ]
    },
    {
      "cell_type": "markdown",
      "metadata": {
        "id": "GB8gZAmF1hIV"
      },
      "source": [
        "Longstaff, F. A., & Schwartz, E. S. (2001). Valuing American options by simulation: a simple least-squares approach. The review of financial studies, 14(1), 113-147."
      ]
    },
    {
      "cell_type": "code",
      "metadata": {
        "id": "mpKn_2nM06Up",
        "colab": {
          "base_uri": "https://localhost:8080/"
        },
        "outputId": "b94f50eb-b703-404f-c0ee-d9252f013421"
      },
      "source": [
        "# we need to learn polyfit function first \n",
        "# https://numpy.org/doc/stable/reference/generated/numpy.polyfit.html\n",
        "\n",
        "x = [0., 1., -1.]\n",
        "y = [10., 12., +12.]\n",
        "z = np.polyfit(x,y,2)\n",
        "print(z)\n",
        "p = np.poly1d(z)\n",
        "p(30)"
      ],
      "execution_count": null,
      "outputs": [
        {
          "output_type": "stream",
          "text": [
            "[ 2.  0. 10.]\n"
          ],
          "name": "stdout"
        },
        {
          "output_type": "execute_result",
          "data": {
            "text/plain": [
              "1809.999999999998"
            ]
          },
          "metadata": {
            "tags": []
          },
          "execution_count": 6
        }
      ]
    },
    {
      "cell_type": "code",
      "metadata": {
        "id": "jHnDnw4s3n2R",
        "colab": {
          "base_uri": "https://localhost:8080/"
        },
        "outputId": "3b522158-37a3-46f6-8b70-49f5199cb7a7"
      },
      "source": [
        "temp = np.random.standard_normal((4,3))\n",
        "print(temp)\n",
        "print(\"\\n\")\n",
        "print(np.cumsum(temp, axis=0))\n",
        "print(\"\\n\")\n",
        "print(np.cumsum(temp, axis=1))"
      ],
      "execution_count": null,
      "outputs": [
        {
          "output_type": "stream",
          "text": [
            "[[-1.10128104  0.92053321 -2.03663438]\n",
            " [-1.0211612  -0.07456679 -0.0429232 ]\n",
            " [ 0.15611026 -0.81319573  0.55357906]\n",
            " [-0.79242163  1.87324108 -1.01045775]]\n",
            "\n",
            "\n",
            "[[-1.10128104  0.92053321 -2.03663438]\n",
            " [-2.12244224  0.84596642 -2.07955759]\n",
            " [-1.96633197  0.03277069 -1.52597853]\n",
            " [-2.7587536   1.90601177 -2.53643628]]\n",
            "\n",
            "\n",
            "[[-1.10128104 -0.18074783 -2.21738221]\n",
            " [-1.0211612  -1.09572799 -1.13865119]\n",
            " [ 0.15611026 -0.65708547 -0.10350641]\n",
            " [-0.79242163  1.08081945  0.0703617 ]]\n"
          ],
          "name": "stdout"
        }
      ]
    },
    {
      "cell_type": "code",
      "metadata": {
        "id": "xW90G95l40uH"
      },
      "source": [
        "# Longstaff & Schwartz algorithm\n",
        "import math\n",
        "import numpy as np\n",
        "from math import exp, log, sqrt \n",
        "\n",
        "np.random.seed(123456)\n",
        "\n",
        "# Inputs \n",
        "S0 = 100.       # underlying asset price (S_0) \n",
        "sigma = 0.20978 # volatility per year\n",
        "r = 0.01        # risk free rate per year\n",
        "div = 0.001     # dividend yield per year\n",
        "T = 1.          # time to maturity\n",
        "K = 110.        # exercise price\n",
        "\n",
        "# simulation parameters input\n",
        "I = 10**3       # # of simulation (The larger, the more accurate)\n",
        "M = 12          # time steps (The larger, the more accurate)"
      ],
      "execution_count": null,
      "outputs": []
    },
    {
      "cell_type": "code",
      "metadata": {
        "id": "ERY9Mx3Z5gmo",
        "colab": {
          "base_uri": "https://localhost:8080/"
        },
        "outputId": "db402ba2-4e3a-4302-dfad-f8d955f557a6"
      },
      "source": [
        "dt = T/M        # length of time step \n",
        "df = math.exp(-r*dt) # discount factor \n",
        "mu = r - div    # expected under risk neutral measure \n",
        "return_series = (mu - sigma**2/2.)*dt + \\\n",
        "                 sigma*sqrt(dt)*np.random.standard_normal((M,I))\n",
        "print(return_series.shape)\n",
        "S = S0*np.exp(np.cumsum(return_series,axis=0))\n",
        "# print(S)"
      ],
      "execution_count": null,
      "outputs": [
        {
          "output_type": "stream",
          "text": [
            "(12, 1000)\n"
          ],
          "name": "stdout"
        }
      ]
    },
    {
      "cell_type": "code",
      "metadata": {
        "id": "oIpsurc7bKKj",
        "colab": {
          "base_uri": "https://localhost:8080/"
        },
        "outputId": "91e34e34-8e4e-4ceb-a222-f61651101355"
      },
      "source": [
        "# compute inner values\n",
        "h = np.maximum(S - K,0.) # put (K-S) or call (S-K) should be determined here\n",
        "V = h[-1]  # terminal value \n",
        "\n",
        "# Let us compute the value of American option with backward induction\n",
        "for t in range(M-1,0,-1):\n",
        "  rg = np.polyfit(S[t],V*df,10) # estimate contiuation-value function with stock prices\n",
        "  C = np.polyval(rg,S[t])   # evaluate continuation value with stock prices with the function\n",
        "  V = np.where(h[t]>C,h[t],V*df)\n",
        "\n",
        "V0 = df*np.average(V)\n",
        "print(\"American call option value is\", round(V0,4))\n",
        "\n"
      ],
      "execution_count": null,
      "outputs": [
        {
          "output_type": "stream",
          "text": [
            "American call option value is 5.1978\n"
          ],
          "name": "stdout"
        }
      ]
    }
  ]
}